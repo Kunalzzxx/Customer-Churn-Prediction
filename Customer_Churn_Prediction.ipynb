{
  "metadata": {
    "kernelspec": {
      "name": "python3",
      "display_name": "Python 3",
      "language": "python"
    },
    "language_info": {
      "name": "python",
      "version": "3.11.13",
      "mimetype": "text/x-python",
      "codemirror_mode": {
        "name": "ipython",
        "version": 3
      },
      "pygments_lexer": "ipython3",
      "nbconvert_exporter": "python",
      "file_extension": ".py"
    },
    "kaggle": {
      "accelerator": "none",
      "dataSources": [
        {
          "sourceId": 18858,
          "sourceType": "datasetVersion",
          "datasetId": 13996
        }
      ],
      "dockerImageVersionId": 31089,
      "isInternetEnabled": false,
      "language": "python",
      "sourceType": "notebook",
      "isGpuEnabled": false
    },
    "colab": {
      "provenance": [],
      "include_colab_link": true
    }
  },
  "nbformat_minor": 0,
  "nbformat": 4,
  "cells": [
    {
      "cell_type": "markdown",
      "metadata": {
        "id": "view-in-github",
        "colab_type": "text"
      },
      "source": [
        "<a href=\"https://colab.research.google.com/github/Kunalzzxx/Customer-Churn-Prediction/blob/main/Customer_Churn_Prediction.ipynb\" target=\"_parent\"><img src=\"https://colab.research.google.com/assets/colab-badge.svg\" alt=\"Open In Colab\"/></a>"
      ]
    },
    {
      "source": [
        "\n",
        "import kagglehub\n",
        "blastchar_telco_customer_churn_path = kagglehub.dataset_download('blastchar/telco-customer-churn')\n",
        "\n",
        "print('Data source import complete.')\n"
      ],
      "metadata": {
        "id": "kCaL-Qm5gjVw"
      },
      "cell_type": "code",
      "outputs": [],
      "execution_count": null
    },
    {
      "cell_type": "code",
      "source": [
        "import pandas as pd\n",
        "import numpy as np\n",
        "import matplotlib\n",
        "import matplotlib.pyplot as plt\n",
        "import seaborn as sns\n",
        "import plotly.express as px\n",
        "import plotly.io as pio\n",
        "pio.renderers.default = 'iframe'\n",
        "from sklearn.pipeline import Pipeline\n",
        "from sklearn.compose import ColumnTransformer\n",
        "from sklearn.preprocessing import OneHotEncoder, MinMaxScaler, FunctionTransformer\n",
        "from sklearn.model_selection import train_test_split\n",
        "from sklearn.linear_model import LogisticRegression\n",
        "from sklearn.metrics import confusion_matrix\n",
        "from sklearn.ensemble import RandomForestClassifier\n",
        "from xgboost import XGBClassifier\n",
        "from sklearn.model_selection import RandomizedSearchCV\n",
        "from sklearn.ensemble import VotingClassifier\n",
        "from sklearn.metrics import classification_report, confusion_matrix, ConfusionMatrixDisplay,accuracy_score\n",
        "\n",
        "# #loading data\n",
        "df = pd.read_csv('../input/telco-customer-churn/WA_Fn-UseC_-Telco-Customer-Churn.csv')\n",
        "# df=pd.read_csv('./data/WA_Fn-UseC_-Telco-Customer-Churn.csv')\n",
        "df\n",
        "\n"
      ],
      "metadata": {
        "trusted": true,
        "execution": {
          "iopub.status.busy": "2025-07-22T10:12:22.236838Z",
          "iopub.execute_input": "2025-07-22T10:12:22.237207Z",
          "iopub.status.idle": "2025-07-22T10:12:26.223928Z",
          "shell.execute_reply.started": "2025-07-22T10:12:22.23718Z",
          "shell.execute_reply": "2025-07-22T10:12:26.223025Z"
        },
        "id": "JJt7Leh3gjV5"
      },
      "outputs": [],
      "execution_count": null
    },
    {
      "cell_type": "code",
      "source": [
        "df.info()"
      ],
      "metadata": {
        "trusted": true,
        "execution": {
          "iopub.status.busy": "2025-07-22T10:12:26.225689Z",
          "iopub.execute_input": "2025-07-22T10:12:26.226046Z",
          "iopub.status.idle": "2025-07-22T10:12:26.259686Z",
          "shell.execute_reply.started": "2025-07-22T10:12:26.225984Z",
          "shell.execute_reply": "2025-07-22T10:12:26.258514Z"
        },
        "id": "nWDztxb_gjV5"
      },
      "outputs": [],
      "execution_count": null
    },
    {
      "cell_type": "code",
      "source": [
        "# Check if any duplicates exist (returns True/False)\n",
        "has_duplicates = df.duplicated().any()\n",
        "print(f\"Dataset has duplicates: {has_duplicates}\")"
      ],
      "metadata": {
        "trusted": true,
        "execution": {
          "iopub.status.busy": "2025-07-22T10:12:26.260555Z",
          "iopub.execute_input": "2025-07-22T10:12:26.260949Z",
          "iopub.status.idle": "2025-07-22T10:12:26.278861Z",
          "shell.execute_reply.started": "2025-07-22T10:12:26.260927Z",
          "shell.execute_reply": "2025-07-22T10:12:26.277898Z"
        },
        "id": "YHRLLnLwgjV6"
      },
      "outputs": [],
      "execution_count": null
    },
    {
      "cell_type": "code",
      "source": [
        "df.dtypes"
      ],
      "metadata": {
        "trusted": true,
        "execution": {
          "iopub.status.busy": "2025-07-22T10:12:26.280876Z",
          "iopub.execute_input": "2025-07-22T10:12:26.281208Z",
          "iopub.status.idle": "2025-07-22T10:12:26.292636Z",
          "shell.execute_reply.started": "2025-07-22T10:12:26.281186Z",
          "shell.execute_reply": "2025-07-22T10:12:26.291601Z"
        },
        "id": "nxhpxo9TgjV6"
      },
      "outputs": [],
      "execution_count": null
    },
    {
      "cell_type": "markdown",
      "source": [
        "    TotalCharges It’s stored as object, but it's supposed to be a number. Lets covert it data type"
      ],
      "metadata": {
        "id": "oTIz6vMPgjV7"
      }
    },
    {
      "cell_type": "code",
      "source": [
        "# Replace blanks with NaN\n",
        "df['TotalCharges']=df['TotalCharges'].replace(' ',np.nan)\n",
        "# Convert to float\n",
        "df['TotalCharges'] = df['TotalCharges'].astype('float')"
      ],
      "metadata": {
        "trusted": true,
        "execution": {
          "iopub.status.busy": "2025-07-22T10:12:26.293928Z",
          "iopub.execute_input": "2025-07-22T10:12:26.294313Z",
          "iopub.status.idle": "2025-07-22T10:12:26.312371Z",
          "shell.execute_reply.started": "2025-07-22T10:12:26.294288Z",
          "shell.execute_reply": "2025-07-22T10:12:26.311332Z"
        },
        "id": "rw15RHMggjV7"
      },
      "outputs": [],
      "execution_count": null
    },
    {
      "cell_type": "code",
      "source": [
        "df.isnull().sum()"
      ],
      "metadata": {
        "trusted": true,
        "execution": {
          "iopub.status.busy": "2025-07-22T10:12:26.313356Z",
          "iopub.execute_input": "2025-07-22T10:12:26.313607Z",
          "iopub.status.idle": "2025-07-22T10:12:26.34422Z",
          "shell.execute_reply.started": "2025-07-22T10:12:26.313586Z",
          "shell.execute_reply": "2025-07-22T10:12:26.343021Z"
        },
        "id": "87-9BbebgjV8"
      },
      "outputs": [],
      "execution_count": null
    },
    {
      "cell_type": "code",
      "source": [
        "df['TotalCharges'].isna().sum()"
      ],
      "metadata": {
        "trusted": true,
        "execution": {
          "iopub.status.busy": "2025-07-22T10:12:26.344996Z",
          "iopub.execute_input": "2025-07-22T10:12:26.345228Z",
          "iopub.status.idle": "2025-07-22T10:12:26.366974Z",
          "shell.execute_reply.started": "2025-07-22T10:12:26.34521Z",
          "shell.execute_reply": "2025-07-22T10:12:26.365996Z"
        },
        "id": "wLOLlccKgjV8"
      },
      "outputs": [],
      "execution_count": null
    },
    {
      "cell_type": "code",
      "source": [
        "df['TotalCharges'].describe()"
      ],
      "metadata": {
        "trusted": true,
        "execution": {
          "iopub.status.busy": "2025-07-22T10:12:26.367763Z",
          "iopub.execute_input": "2025-07-22T10:12:26.368052Z",
          "iopub.status.idle": "2025-07-22T10:12:26.39468Z",
          "shell.execute_reply.started": "2025-07-22T10:12:26.368018Z",
          "shell.execute_reply": "2025-07-22T10:12:26.393575Z"
        },
        "id": "6DO5xBi0gjV8"
      },
      "outputs": [],
      "execution_count": null
    },
    {
      "cell_type": "code",
      "source": [
        "mask = df['TotalCharges'].isna()\n",
        "df.loc[mask, ['tenure', 'TotalCharges']].head()"
      ],
      "metadata": {
        "trusted": true,
        "execution": {
          "iopub.status.busy": "2025-07-22T10:12:26.396071Z",
          "iopub.execute_input": "2025-07-22T10:12:26.396405Z",
          "iopub.status.idle": "2025-07-22T10:12:26.416737Z",
          "shell.execute_reply.started": "2025-07-22T10:12:26.396376Z",
          "shell.execute_reply": "2025-07-22T10:12:26.415773Z"
        },
        "id": "PdXHGqRcgjV9"
      },
      "outputs": [],
      "execution_count": null
    },
    {
      "cell_type": "markdown",
      "source": [
        "    All 11 missing rows correspond to tenure == 0. For those customers the company hasn’t billed anything yet, so TotalCharges should logically be 0."
      ],
      "metadata": {
        "id": "STi3_IYFgjV9"
      }
    },
    {
      "cell_type": "code",
      "source": [
        "df.loc[mask,['TotalCharges']]=0.0"
      ],
      "metadata": {
        "trusted": true,
        "execution": {
          "iopub.status.busy": "2025-07-22T10:12:26.419833Z",
          "iopub.execute_input": "2025-07-22T10:12:26.420143Z",
          "iopub.status.idle": "2025-07-22T10:12:26.440939Z",
          "shell.execute_reply.started": "2025-07-22T10:12:26.420119Z",
          "shell.execute_reply": "2025-07-22T10:12:26.439941Z"
        },
        "id": "TEOwZheHgjV9"
      },
      "outputs": [],
      "execution_count": null
    },
    {
      "cell_type": "code",
      "source": [
        "df[df['TotalCharges']==0.0]"
      ],
      "metadata": {
        "trusted": true,
        "execution": {
          "iopub.status.busy": "2025-07-22T10:12:26.441991Z",
          "iopub.execute_input": "2025-07-22T10:12:26.442773Z",
          "iopub.status.idle": "2025-07-22T10:12:26.477933Z",
          "shell.execute_reply.started": "2025-07-22T10:12:26.44274Z",
          "shell.execute_reply": "2025-07-22T10:12:26.47693Z"
        },
        "id": "sXvAJMEFgjV9"
      },
      "outputs": [],
      "execution_count": null
    },
    {
      "cell_type": "markdown",
      "source": [
        "    id column can be dropped; it's just an identifier and doesn't help in prediction."
      ],
      "metadata": {
        "id": "05yJJnxTgjV9"
      }
    },
    {
      "cell_type": "code",
      "source": [
        "df.drop('customerID',axis=1,inplace=True)"
      ],
      "metadata": {
        "trusted": true,
        "execution": {
          "iopub.status.busy": "2025-07-22T10:12:26.479284Z",
          "iopub.execute_input": "2025-07-22T10:12:26.480097Z",
          "iopub.status.idle": "2025-07-22T10:12:26.498886Z",
          "shell.execute_reply.started": "2025-07-22T10:12:26.480071Z",
          "shell.execute_reply": "2025-07-22T10:12:26.497867Z"
        },
        "id": "6upLxcs1gjV9"
      },
      "outputs": [],
      "execution_count": null
    },
    {
      "cell_type": "code",
      "source": [
        "df.MultipleLines.unique()"
      ],
      "metadata": {
        "trusted": true,
        "execution": {
          "iopub.status.busy": "2025-07-22T10:12:26.499876Z",
          "iopub.execute_input": "2025-07-22T10:12:26.500226Z",
          "iopub.status.idle": "2025-07-22T10:12:26.519936Z",
          "shell.execute_reply.started": "2025-07-22T10:12:26.500186Z",
          "shell.execute_reply": "2025-07-22T10:12:26.519094Z"
        },
        "id": "jSv1ZR1XgjV9"
      },
      "outputs": [],
      "execution_count": null
    },
    {
      "cell_type": "code",
      "source": [
        "df.InternetService.unique()"
      ],
      "metadata": {
        "trusted": true,
        "execution": {
          "iopub.status.busy": "2025-07-22T10:12:26.520984Z",
          "iopub.execute_input": "2025-07-22T10:12:26.521404Z",
          "iopub.status.idle": "2025-07-22T10:12:26.550372Z",
          "shell.execute_reply.started": "2025-07-22T10:12:26.521383Z",
          "shell.execute_reply": "2025-07-22T10:12:26.549567Z"
        },
        "id": "3rc9w4wkgjV9"
      },
      "outputs": [],
      "execution_count": null
    },
    {
      "cell_type": "markdown",
      "source": [
        "    We will later check some other coulmn if those need any fix"
      ],
      "metadata": {
        "id": "O0e1GFWWgjV-"
      }
    },
    {
      "cell_type": "code",
      "source": [
        "df.SeniorCitizen.unique()"
      ],
      "metadata": {
        "trusted": true,
        "execution": {
          "iopub.status.busy": "2025-07-22T10:12:26.551482Z",
          "iopub.execute_input": "2025-07-22T10:12:26.552563Z",
          "iopub.status.idle": "2025-07-22T10:12:26.573463Z",
          "shell.execute_reply.started": "2025-07-22T10:12:26.552518Z",
          "shell.execute_reply": "2025-07-22T10:12:26.572308Z"
        },
        "id": "ZLTrvDbAgjV-"
      },
      "outputs": [],
      "execution_count": null
    },
    {
      "cell_type": "markdown",
      "source": [
        "    lets make the seniorCitizen column as categorical column"
      ],
      "metadata": {
        "id": "gkSMaeVvgjV-"
      }
    },
    {
      "cell_type": "code",
      "source": [
        "df['SeniorCitizen']=df['SeniorCitizen'].map({0:'No',1:'Yes'})"
      ],
      "metadata": {
        "trusted": true,
        "execution": {
          "iopub.status.busy": "2025-07-22T10:12:26.574516Z",
          "iopub.execute_input": "2025-07-22T10:12:26.574823Z",
          "iopub.status.idle": "2025-07-22T10:12:26.596464Z",
          "shell.execute_reply.started": "2025-07-22T10:12:26.574792Z",
          "shell.execute_reply": "2025-07-22T10:12:26.595361Z"
        },
        "id": "6pl-UaczgjV-"
      },
      "outputs": [],
      "execution_count": null
    },
    {
      "cell_type": "code",
      "source": [
        "df.SeniorCitizen.unique()"
      ],
      "metadata": {
        "trusted": true,
        "execution": {
          "iopub.status.busy": "2025-07-22T10:12:26.597548Z",
          "iopub.execute_input": "2025-07-22T10:12:26.598033Z",
          "iopub.status.idle": "2025-07-22T10:12:26.622245Z",
          "shell.execute_reply.started": "2025-07-22T10:12:26.597998Z",
          "shell.execute_reply": "2025-07-22T10:12:26.621235Z"
        },
        "id": "pYETtdUTgjV-"
      },
      "outputs": [],
      "execution_count": null
    },
    {
      "cell_type": "code",
      "source": [
        "import plotly.graph_objects as go\n",
        "from plotly.subplots import make_subplots\n",
        "\n",
        "\n",
        "# Calculate value counts and percentages for gender\n",
        "gender_counts = df['gender'].value_counts()\n",
        "gender_percentages = (gender_counts / len(df)) * 100\n",
        "\n",
        "# Calculate value counts and percentages for churn\n",
        "churn_counts = df['Churn'].value_counts()\n",
        "churn_percentages = (churn_counts / len(df)) * 100\n",
        "\n",
        "# Create subplots with 1 row and 2 columns\n",
        "fig = make_subplots(\n",
        "    rows=1, cols=2,\n",
        "    specs=[[{\"type\": \"pie\"}, {\"type\": \"pie\"}]],\n",
        "    subplot_titles=(\"Gender\", \"Churn\"),\n",
        "    horizontal_spacing=0.1\n",
        ")\n",
        "\n",
        "# Gender distribution\n",
        "gender_labels = gender_counts.index.tolist()\n",
        "gender_values = gender_percentages.tolist()\n",
        "gender_colors = ['#4472C4', '#E55A4E']  # Blue for Male, Red for Female\n",
        "\n",
        "# Churn distribution\n",
        "churn_labels = churn_counts.index.tolist()\n",
        "churn_values = churn_percentages.tolist()\n",
        "churn_colors = ['#70AD47', '#9966CC']  # Green for No, Purple for Yes\n",
        "\n",
        "# Add gender pie chart\n",
        "fig.add_trace(\n",
        "    go.Pie(\n",
        "        labels=gender_labels,\n",
        "        values=gender_values,\n",
        "        hole=0.4,\n",
        "        marker=dict(colors=gender_colors),\n",
        "        textinfo='label+percent',\n",
        "        textposition='outside',\n",
        "        showlegend=True,\n",
        "        legendgroup='gender',\n",
        "        name='Gender'\n",
        "    ),\n",
        "    row=1, col=1\n",
        ")\n",
        "\n",
        "# Add churn pie chart\n",
        "fig.add_trace(\n",
        "    go.Pie(\n",
        "        labels=churn_labels,\n",
        "        values=churn_values,\n",
        "        hole=0.4,\n",
        "        marker=dict(colors=churn_colors),\n",
        "        textinfo='label+percent',\n",
        "        textposition='outside',\n",
        "        showlegend=True,\n",
        "        legendgroup='churn',\n",
        "        name='Churn'\n",
        "    ),\n",
        "    row=1, col=2\n",
        ")\n",
        "\n",
        "# Update layout\n",
        "fig.update_layout(\n",
        "    title={\n",
        "        'text': 'Gender and Churn Distribution',\n",
        "        'x': 0.5,\n",
        "        'xanchor': 'center',\n",
        "        'font': {'size': 20}\n",
        "    },\n",
        "    showlegend=True,\n",
        "    legend=dict(\n",
        "        orientation=\"v\",\n",
        "        yanchor=\"middle\",\n",
        "        y=0.5,\n",
        "        xanchor=\"left\",\n",
        "        x=1.05\n",
        "    ),\n",
        "    width=800,\n",
        "    height=500\n",
        ")\n",
        "\n",
        "# Show the plot\n",
        "fig.show()\n",
        "\n",
        "# Print the actual percentages for verification\n",
        "print(\"Gender Distribution:\")\n",
        "print(gender_percentages)\n",
        "print(\"\\nChurn Distribution:\")\n",
        "print(churn_percentages)\n",
        "\n"
      ],
      "metadata": {
        "trusted": true,
        "execution": {
          "iopub.status.busy": "2025-07-22T10:12:26.623168Z",
          "iopub.execute_input": "2025-07-22T10:12:26.623451Z",
          "iopub.status.idle": "2025-07-22T10:12:27.165001Z",
          "shell.execute_reply.started": "2025-07-22T10:12:26.62343Z",
          "shell.execute_reply": "2025-07-22T10:12:27.16392Z"
        },
        "id": "8pjZzpBygjV-"
      },
      "outputs": [],
      "execution_count": null
    },
    {
      "cell_type": "code",
      "source": [
        "fig = px.histogram(df, x='gender', color='Churn',\n",
        "                   barmode='group',\n",
        "                   title='Churn by gender',\n",
        "                   color_discrete_sequence=['#636EFA', '#EF553B'])\n",
        "fig.show()"
      ],
      "metadata": {
        "trusted": true,
        "execution": {
          "iopub.status.busy": "2025-07-22T10:12:27.166048Z",
          "iopub.execute_input": "2025-07-22T10:12:27.166287Z",
          "iopub.status.idle": "2025-07-22T10:12:28.913456Z",
          "shell.execute_reply.started": "2025-07-22T10:12:27.166265Z",
          "shell.execute_reply": "2025-07-22T10:12:28.912409Z"
        },
        "id": "DrLSks6rgjV_"
      },
      "outputs": [],
      "execution_count": null
    },
    {
      "cell_type": "code",
      "source": [
        "fig = px.histogram(df, x='SeniorCitizen', color='Churn',\n",
        "                   barmode='group',\n",
        "                   title='Churn by Senior Citizen Status',\n",
        "                   color_discrete_sequence=['#00CC96', '#EF553B'])\n",
        "fig.show()"
      ],
      "metadata": {
        "trusted": true,
        "execution": {
          "iopub.status.busy": "2025-07-22T10:12:28.914457Z",
          "iopub.execute_input": "2025-07-22T10:12:28.914687Z",
          "iopub.status.idle": "2025-07-22T10:12:29.030938Z",
          "shell.execute_reply.started": "2025-07-22T10:12:28.914668Z",
          "shell.execute_reply": "2025-07-22T10:12:29.029986Z"
        },
        "id": "ib7vW7ACgjV_"
      },
      "outputs": [],
      "execution_count": null
    },
    {
      "cell_type": "code",
      "source": [
        "fig = px.histogram(df, x='Contract', color='Churn',\n",
        "                   barmode='group',\n",
        "                   title='Churn by Contract Type',\n",
        "                   color_discrete_sequence=['#636EFA', '#EF553B'])\n",
        "fig.show()"
      ],
      "metadata": {
        "trusted": true,
        "execution": {
          "iopub.status.busy": "2025-07-22T10:12:29.032259Z",
          "iopub.execute_input": "2025-07-22T10:12:29.032982Z",
          "iopub.status.idle": "2025-07-22T10:12:29.148099Z",
          "shell.execute_reply.started": "2025-07-22T10:12:29.032929Z",
          "shell.execute_reply": "2025-07-22T10:12:29.147117Z"
        },
        "id": "cxWnee5LgjV_"
      },
      "outputs": [],
      "execution_count": null
    },
    {
      "cell_type": "code",
      "source": [
        "fig = px.histogram(df, x='tenure', color='Churn',\n",
        "                   nbins=30, barmode='overlay',\n",
        "                   opacity=0.6,\n",
        "                   title='Tenure Distribution by Churn',\n",
        "                   color_discrete_sequence=['#EF553B', '#00CC96'])\n",
        "fig.show()"
      ],
      "metadata": {
        "trusted": true,
        "execution": {
          "iopub.status.busy": "2025-07-22T10:12:29.14904Z",
          "iopub.execute_input": "2025-07-22T10:12:29.149373Z",
          "iopub.status.idle": "2025-07-22T10:12:29.255335Z",
          "shell.execute_reply.started": "2025-07-22T10:12:29.149345Z",
          "shell.execute_reply": "2025-07-22T10:12:29.254416Z"
        },
        "id": "PxEND7kigjWA"
      },
      "outputs": [],
      "execution_count": null
    },
    {
      "cell_type": "code",
      "source": [
        "fig = px.scatter(df, x='MonthlyCharges', y='TotalCharges', color='Churn',\n",
        "                 title='Monthly Charges vs Total Charges by Churn',\n",
        "                 color_discrete_sequence=['#EF553B', '#636EFA'])\n",
        "fig.show()"
      ],
      "metadata": {
        "trusted": true,
        "execution": {
          "iopub.status.busy": "2025-07-22T10:12:29.25635Z",
          "iopub.execute_input": "2025-07-22T10:12:29.256675Z",
          "iopub.status.idle": "2025-07-22T10:12:29.393066Z",
          "shell.execute_reply.started": "2025-07-22T10:12:29.256647Z",
          "shell.execute_reply": "2025-07-22T10:12:29.392087Z"
        },
        "id": "PsClBfb7gjWG"
      },
      "outputs": [],
      "execution_count": null
    },
    {
      "cell_type": "code",
      "source": [
        "churn_pct = pd.crosstab(df['InternetService'], df['Churn'], normalize='index') * 100\n",
        "churn_pct = churn_pct.reset_index().melt(id_vars='InternetService', value_name='Percent', var_name='Churn')\n",
        "\n",
        "fig = px.bar(churn_pct, x='InternetService', y='Percent', color='Churn',\n",
        "             title='Churn % by Internet Service (Stacked)',\n",
        "             text_auto='.1f',\n",
        "             color_discrete_sequence=['#00CC96', '#EF553B'])\n",
        "fig.update_layout(barmode='stack')\n",
        "fig.show()"
      ],
      "metadata": {
        "trusted": true,
        "execution": {
          "iopub.status.busy": "2025-07-22T10:12:29.394205Z",
          "iopub.execute_input": "2025-07-22T10:12:29.394539Z",
          "iopub.status.idle": "2025-07-22T10:12:29.538678Z",
          "shell.execute_reply.started": "2025-07-22T10:12:29.394509Z",
          "shell.execute_reply": "2025-07-22T10:12:29.537859Z"
        },
        "id": "1Wz1cnK4gjWH"
      },
      "outputs": [],
      "execution_count": null
    },
    {
      "cell_type": "code",
      "source": [
        "fig = px.box(df, x='Churn', y='MonthlyCharges', color='Churn',\n",
        "             title='Monthly Charges Distribution by Churn',\n",
        "             color_discrete_sequence=['#00CC96', '#EF553B'])\n",
        "fig.show()"
      ],
      "metadata": {
        "trusted": true,
        "execution": {
          "iopub.status.busy": "2025-07-22T10:12:29.539434Z",
          "iopub.execute_input": "2025-07-22T10:12:29.53964Z",
          "iopub.status.idle": "2025-07-22T10:12:29.698525Z",
          "shell.execute_reply.started": "2025-07-22T10:12:29.539622Z",
          "shell.execute_reply": "2025-07-22T10:12:29.697431Z"
        },
        "id": "TzuLMLMogjWH"
      },
      "outputs": [],
      "execution_count": null
    },
    {
      "cell_type": "code",
      "source": [
        "# Map Churn to 0/1 if not already\n",
        "df_corr = df.copy()\n",
        "df_corr['Churn'] = df_corr['Churn'].map({'No': 0, 'Yes': 1})\n",
        "\n",
        "# One-hot encode categorical columns\n",
        "df_encoded = pd.get_dummies(df_corr, drop_first=True)\n",
        "\n",
        "# Correlation with churn\n",
        "churn_corr = df_encoded.corr()['Churn'].drop('Churn')\n",
        "churn_corr_sorted = churn_corr.abs().sort_values(ascending=False).head(15)\n",
        "\n",
        "# Plot\n",
        "fig = px.bar(x=churn_corr_sorted.index,\n",
        "             y=churn_corr_sorted.values,\n",
        "             title='Top 15 Features Correlated with Churn',\n",
        "             labels={'x': 'Feature', 'y': 'Absolute Correlation with Churn'},\n",
        "             text=churn_corr_sorted.round(2),\n",
        "             color=churn_corr_sorted.values,\n",
        "             color_continuous_scale='RdBu')\n",
        "fig.update_layout(xaxis_tickangle=45)\n",
        "fig.show()"
      ],
      "metadata": {
        "trusted": true,
        "execution": {
          "iopub.status.busy": "2025-07-22T10:12:29.699906Z",
          "iopub.execute_input": "2025-07-22T10:12:29.700215Z",
          "iopub.status.idle": "2025-07-22T10:12:29.876916Z",
          "shell.execute_reply.started": "2025-07-22T10:12:29.700191Z",
          "shell.execute_reply": "2025-07-22T10:12:29.875912Z"
        },
        "id": "9oxjLBjRgjWH"
      },
      "outputs": [],
      "execution_count": null
    },
    {
      "cell_type": "code",
      "source": [
        "from sklearn.preprocessing import LabelEncoder\n",
        "# Copy your original DataFrame\n",
        "df_temp = df.copy()\n",
        "\n",
        "# Temporarily encode categorical columns\n",
        "le = LabelEncoder()\n",
        "for col in df_temp.columns:\n",
        "    if df_temp[col].dtype == 'object':\n",
        "        df_temp[col] = le.fit_transform(df_temp[col])\n",
        "\n",
        "# Correlation heatmap\n",
        "fig = px.imshow(df_temp.corr(),\n",
        "                text_auto=True,\n",
        "                title=\"Correlation Heatmap (Raw + Label Encoded)\",\n",
        "                color_continuous_scale='RdBu_r')\n",
        "fig.update_layout(height=700, width=1200)\n",
        "fig.show()"
      ],
      "metadata": {
        "trusted": true,
        "execution": {
          "iopub.status.busy": "2025-07-22T10:12:29.878124Z",
          "iopub.execute_input": "2025-07-22T10:12:29.878475Z",
          "iopub.status.idle": "2025-07-22T10:12:30.041512Z",
          "shell.execute_reply.started": "2025-07-22T10:12:29.878452Z",
          "shell.execute_reply": "2025-07-22T10:12:30.040525Z"
        },
        "id": "lobIqicygjWI"
      },
      "outputs": [],
      "execution_count": null
    },
    {
      "cell_type": "code",
      "source": [
        "df.to_csv('telcom_customer_churn_pred.csv',index=False)\n",
        "print('successfully saved')"
      ],
      "metadata": {
        "trusted": true,
        "execution": {
          "iopub.status.busy": "2025-07-22T10:12:30.045606Z",
          "iopub.execute_input": "2025-07-22T10:12:30.045907Z",
          "iopub.status.idle": "2025-07-22T10:12:30.118556Z",
          "shell.execute_reply.started": "2025-07-22T10:12:30.045884Z",
          "shell.execute_reply": "2025-07-22T10:12:30.117373Z"
        },
        "id": "M0AeW70IgjWI"
      },
      "outputs": [],
      "execution_count": null
    },
    {
      "cell_type": "code",
      "source": [
        "# Step 1: Feature Engineering Function\n",
        "def add_custom_features(df):\n",
        "    services = ['PhoneService', 'MultipleLines', 'OnlineSecurity',\n",
        "                'OnlineBackup', 'DeviceProtection', 'TechSupport',\n",
        "                'StreamingTV', 'StreamingMovies']\n",
        "\n",
        "    df['NumServices'] = df[services].apply(lambda x: sum(x == 'Yes'), axis=1)\n",
        "    df['HighMonthlyCharges'] = df['MonthlyCharges'].apply(lambda x: 1 if x > 80 else 0)\n",
        "    df['IsSeniorDependent'] = df.apply(lambda x: 'Yes' if x['SeniorCitizen'] == 'Yes' and x['Dependents'] == 'Yes' else 'No', axis=1)\n",
        "    df['PricePerService'] = df['MonthlyCharges'] / (df['NumServices'] + 1)\n",
        "\n",
        "    return df\n",
        "# Step 2: Define feature pipeline block\n",
        "feature_block = FunctionTransformer(add_custom_features, validate=False)"
      ],
      "metadata": {
        "trusted": true,
        "execution": {
          "iopub.status.busy": "2025-07-22T10:12:30.119437Z",
          "iopub.execute_input": "2025-07-22T10:12:30.119684Z",
          "iopub.status.idle": "2025-07-22T10:12:30.12748Z",
          "shell.execute_reply.started": "2025-07-22T10:12:30.119665Z",
          "shell.execute_reply": "2025-07-22T10:12:30.125859Z"
        },
        "id": "x-v8_IqwgjWI"
      },
      "outputs": [],
      "execution_count": null
    },
    {
      "cell_type": "code",
      "source": [
        "categorical_cols = ['gender', 'SeniorCitizen','InternetService', 'OnlineSecurity',\n",
        "                    'TechSupport', 'Contract', 'PaperlessBilling',\n",
        "                    'PaymentMethod', 'IsSeniorDependent']\n",
        "\n",
        "numerical_cols = ['tenure', 'MonthlyCharges',\n",
        "                  'NumServices', 'HighMonthlyCharges', 'PricePerService']"
      ],
      "metadata": {
        "trusted": true,
        "execution": {
          "iopub.status.busy": "2025-07-22T10:12:30.128812Z",
          "iopub.execute_input": "2025-07-22T10:12:30.129265Z",
          "iopub.status.idle": "2025-07-22T10:12:30.154032Z",
          "shell.execute_reply.started": "2025-07-22T10:12:30.129185Z",
          "shell.execute_reply": "2025-07-22T10:12:30.153054Z"
        },
        "id": "Se8LTBRBgjWJ"
      },
      "outputs": [],
      "execution_count": null
    },
    {
      "cell_type": "code",
      "source": [
        "# Step 4: Preprocessing block\n",
        "\n",
        "#A ColumnTransformer lets you apply different preprocessing steps to different columns:\n",
        "preprocessor=ColumnTransformer(transformers=[\n",
        "    ('num',MinMaxScaler(),numerical_cols),\n",
        "    ('cat',OneHotEncoder(handle_unknown='ignore'), categorical_cols)\n",
        "    ],\n",
        "   remainder='drop' # Drops any other columns, including the drop_columns\n",
        "   )"
      ],
      "metadata": {
        "trusted": true,
        "execution": {
          "iopub.status.busy": "2025-07-22T10:12:30.155366Z",
          "iopub.execute_input": "2025-07-22T10:12:30.155647Z",
          "iopub.status.idle": "2025-07-22T10:12:30.179021Z",
          "shell.execute_reply.started": "2025-07-22T10:12:30.155616Z",
          "shell.execute_reply": "2025-07-22T10:12:30.177794Z"
        },
        "id": "g5V3Nk3zgjWJ"
      },
      "outputs": [],
      "execution_count": null
    },
    {
      "cell_type": "code",
      "source": [
        "# Prepare features and target\n",
        "X = df.drop('Churn', axis=1)\n",
        "y = df['Churn'].map({'No': 0, 'Yes': 1})  # Convert to numeric for testing in XGBoost\n",
        "\n",
        "X_train, X_test, y_train, y_test = train_test_split(\n",
        "    X, y, test_size=0.2, stratify=y, random_state=42\n",
        ")\n"
      ],
      "metadata": {
        "trusted": true,
        "execution": {
          "iopub.status.busy": "2025-07-22T10:12:30.180271Z",
          "iopub.execute_input": "2025-07-22T10:12:30.180604Z",
          "iopub.status.idle": "2025-07-22T10:12:30.214275Z",
          "shell.execute_reply.started": "2025-07-22T10:12:30.180574Z",
          "shell.execute_reply": "2025-07-22T10:12:30.213281Z"
        },
        "id": "ikTGP1a2gjWJ"
      },
      "outputs": [],
      "execution_count": null
    },
    {
      "cell_type": "code",
      "source": [
        "def create_pipeline(classifier):\n",
        "    return Pipeline([\n",
        "        ('feature_engineering', feature_block),\n",
        "        ('preprocessing', preprocessor),\n",
        "        ('classifier', classifier)\n",
        "    ])"
      ],
      "metadata": {
        "trusted": true,
        "execution": {
          "iopub.status.busy": "2025-07-22T10:12:30.21514Z",
          "iopub.execute_input": "2025-07-22T10:12:30.215373Z",
          "iopub.status.idle": "2025-07-22T10:12:30.223971Z",
          "shell.execute_reply.started": "2025-07-22T10:12:30.215355Z",
          "shell.execute_reply": "2025-07-22T10:12:30.222899Z"
        },
        "id": "aoKxX2KLgjWK"
      },
      "outputs": [],
      "execution_count": null
    },
    {
      "cell_type": "code",
      "source": [
        "model_params = {\n",
        "    'logistic_regression': {\n",
        "        'model':  create_pipeline(LogisticRegression(solver='liblinear')),\n",
        "        'params': {\n",
        "            'classifier__C': np.logspace(-3, 2, 6),  # [0.001, 0.01, 0.1, 1, 10, 100]\n",
        "            'classifier__penalty': ['l1', 'l2']\n",
        "        }\n",
        "    },\n",
        "    'random_forest': {\n",
        "        'model': create_pipeline( RandomForestClassifier(random_state=42)) ,\n",
        "        'params': {\n",
        "            'classifier__n_estimators': [50, 100, 150, 200],\n",
        "            'classifier__max_depth': [5, 10, 15, 20],\n",
        "            'classifier__min_samples_split': [2, 5, 10],\n",
        "            'classifier__min_samples_leaf': [1, 2, 4],\n",
        "            'classifier__bootstrap': [True, False]\n",
        "        }\n",
        "    },\n",
        "    'xgboost': {\n",
        "        'model': create_pipeline(XGBClassifier(eval_metric='logloss', verbosity=0)),\n",
        "        'params': {\n",
        "            'classifier__learning_rate': [0.01, 0.05, 0.1],\n",
        "    'classifier__max_depth': [3, 5, 7],\n",
        "    'classifier__subsample': [0.6, 0.8, 1.0],\n",
        "    'classifier__colsample_bytree': [0.6, 0.8, 1.0],\n",
        "    'classifier__n_estimators': [100, 150],\n",
        "    'classifier__gamma': [0, 0.1, 0.2]\n",
        "        }\n",
        "    }\n",
        "}"
      ],
      "metadata": {
        "trusted": true,
        "execution": {
          "iopub.status.busy": "2025-07-22T10:12:30.224895Z",
          "iopub.execute_input": "2025-07-22T10:12:30.225222Z",
          "iopub.status.idle": "2025-07-22T10:12:30.249359Z",
          "shell.execute_reply.started": "2025-07-22T10:12:30.225198Z",
          "shell.execute_reply": "2025-07-22T10:12:30.248048Z"
        },
        "id": "BGPfEsujgjWK"
      },
      "outputs": [],
      "execution_count": null
    },
    {
      "cell_type": "code",
      "source": [
        "scores = []\n",
        "\n",
        "for model_name, mp in model_params.items():\n",
        "    print(f\" Tuning {model_name}...\")\n",
        "    clf = RandomizedSearchCV(\n",
        "        mp['model'],\n",
        "        mp['params'],\n",
        "        n_iter=20,           # only try 20 combinations\n",
        "        cv=3,                # 3-fold cross-validation\n",
        "        scoring='accuracy',\n",
        "        n_jobs=-1,\n",
        "        verbose=1,\n",
        "        random_state=42\n",
        "    )\n",
        "    clf.fit(X_train, y_train)\n",
        "\n",
        "    scores.append({\n",
        "        'model': model_name,\n",
        "        'best_score': clf.best_score_,\n",
        "        'best_params': clf.best_params_\n",
        "    })\n",
        "\n",
        "# Results DataFrame\n",
        "model_score_df = pd.DataFrame(scores, columns=['model', 'best_score', 'best_params'])\n",
        "model_score_df"
      ],
      "metadata": {
        "trusted": true,
        "execution": {
          "iopub.status.busy": "2025-07-22T10:12:30.250462Z",
          "iopub.execute_input": "2025-07-22T10:12:30.250795Z",
          "iopub.status.idle": "2025-07-22T10:13:20.924314Z",
          "shell.execute_reply.started": "2025-07-22T10:12:30.250765Z",
          "shell.execute_reply": "2025-07-22T10:13:20.923552Z"
        },
        "id": "InWtSHWCgjWK"
      },
      "outputs": [],
      "execution_count": null
    },
    {
      "cell_type": "code",
      "source": [
        "for i, row in model_score_df.iterrows():\n",
        "    print(f\"Model: {row['model']}\")\n",
        "    print(f\"Best Score: {row['best_score']}\")\n",
        "    print(f\"Best Params: {row['best_params']}\")\n",
        "    print(\"-\" * 50)"
      ],
      "metadata": {
        "trusted": true,
        "execution": {
          "iopub.status.busy": "2025-07-22T10:13:20.925023Z",
          "iopub.execute_input": "2025-07-22T10:13:20.925406Z",
          "iopub.status.idle": "2025-07-22T10:13:20.932771Z",
          "shell.execute_reply.started": "2025-07-22T10:13:20.925385Z",
          "shell.execute_reply": "2025-07-22T10:13:20.931911Z"
        },
        "id": "Y-OVsefugjWK"
      },
      "outputs": [],
      "execution_count": null
    },
    {
      "cell_type": "code",
      "source": [
        "# Best Logistic Regression model based on GridSearchCV\n",
        "logistic_model = Pipeline(steps=[\n",
        "    ('feature_engineering', feature_block),\n",
        "    ('preprocessing', preprocessor),\n",
        "    ('classifier', LogisticRegression(\n",
        "        penalty='l1',\n",
        "        C=0.1,\n",
        "        solver='liblinear',\n",
        "        class_weight='balanced'  # 💡 This is the key change\n",
        "    ))\n",
        "])\n",
        "\n",
        "# Fit on the full training data\n",
        "logistic_model.fit(X_train, y_train)\n",
        "\n",
        "# Predict on test data\n",
        "y_pred = logistic_model.predict(X_test)\n",
        "\n",
        "# Evaluate\n",
        "accuracy=accuracy_score(y_test, y_pred)\n",
        "print(\"✅ Accuracy on Test Data: {:.2f}%\".format(accuracy * 100))\n",
        "print(\"\\n📊 Classification Report:\\n\", classification_report(y_test, y_pred))\n",
        "cm= confusion_matrix(y_test, y_pred)\n",
        "cm_percent = cm / cm.sum() * 100  # Convert to percentages\n",
        "\n",
        "# Plotting\n",
        "plt.figure(figsize=(6, 4))\n",
        "sns.heatmap(cm_percent, annot=True, fmt='.2f', cmap='Blues',\n",
        "            xticklabels=['No Churn', 'Churn'],\n",
        "            yticklabels=['No Churn', 'Churn'])\n",
        "\n",
        "plt.title('Confusion Matrix (Percentage)')\n",
        "plt.xlabel('Predicted')\n",
        "plt.ylabel('Actual')\n",
        "plt.show()"
      ],
      "metadata": {
        "trusted": true,
        "execution": {
          "iopub.status.busy": "2025-07-22T10:13:20.934136Z",
          "iopub.execute_input": "2025-07-22T10:13:20.934414Z",
          "iopub.status.idle": "2025-07-22T10:13:21.730158Z",
          "shell.execute_reply.started": "2025-07-22T10:13:20.934395Z",
          "shell.execute_reply": "2025-07-22T10:13:21.729152Z"
        },
        "id": "1fgQPvpMgjWK"
      },
      "outputs": [],
      "execution_count": null
    },
    {
      "cell_type": "code",
      "source": [
        "\n",
        "\n",
        "# Define the individual models with best parameters (or reasonable ones)\n",
        "log_reg = LogisticRegression(\n",
        "    penalty='l1',\n",
        "    C=0.1,\n",
        "    solver='liblinear',\n",
        "    class_weight='balanced'\n",
        ")\n",
        "\n",
        "rf_clf = RandomForestClassifier(\n",
        "    n_estimators=100,\n",
        "    max_depth=10,\n",
        "    class_weight='balanced',\n",
        "    random_state=42\n",
        ")\n",
        "\n",
        "xgb_clf = XGBClassifier(\n",
        "    n_estimators=150,\n",
        "    learning_rate=0.1,\n",
        "    subsample=0.8,\n",
        "    use_label_encoder=False,\n",
        "    eval_metric='logloss',\n",
        "    random_state=42\n",
        ")\n",
        "\n",
        "# VotingClassifier (Hard Voting or Soft Voting)\n",
        "voting_clf = VotingClassifier(\n",
        "    estimators=[\n",
        "        ('lr', log_reg),\n",
        "        ('rf', rf_clf),\n",
        "        ('xgb', xgb_clf)\n",
        "    ],\n",
        "    voting='soft'  # use 'hard' for label majority voting\n",
        ")\n",
        "\n",
        "# Final Ensemble Model Pipeline\n",
        "model = Pipeline(steps=[\n",
        "    ('feature_engineering', feature_block),\n",
        "    ('preprocessing', preprocessor),\n",
        "    ('classifier', voting_clf)\n",
        "])\n",
        "\n",
        "# Fit on training data\n",
        "model.fit(X_train, y_train)\n",
        "\n",
        "# Predict on test data\n",
        "y_pred_ensemble = model.predict(X_test)\n",
        "\n",
        "# Evaluate\n",
        "\n",
        "print(\"Classification Report:\\n\", classification_report(y_test, y_pred_ensemble))\n",
        "\n",
        "# Confusion Matrix\n",
        "ConfusionMatrixDisplay.from_predictions(\n",
        "    y_test, y_pred_ensemble,\n",
        "    display_labels=['No Churn', 'Churn'],\n",
        "    cmap='Blues',\n",
        "    normalize='true'  # 🔄 percent values\n",
        ")"
      ],
      "metadata": {
        "trusted": true,
        "execution": {
          "iopub.status.busy": "2025-07-22T10:13:21.731032Z",
          "iopub.execute_input": "2025-07-22T10:13:21.731339Z",
          "iopub.status.idle": "2025-07-22T10:13:23.243373Z",
          "shell.execute_reply.started": "2025-07-22T10:13:21.731319Z",
          "shell.execute_reply": "2025-07-22T10:13:23.242411Z"
        },
        "id": "yCpVFdi2gjWL"
      },
      "outputs": [],
      "execution_count": null
    }
  ]
}